{
 "cells": [
  {
   "cell_type": "markdown",
   "id": "04bd36a9",
   "metadata": {},
   "source": [
    "# 크롤링 기초\n",
    "## 네이버 날씨 정보 가져오기"
   ]
  },
  {
   "cell_type": "code",
   "execution_count": 2,
   "id": "324a962f",
   "metadata": {},
   "outputs": [
    {
     "name": "stdout",
     "output_type": "stream",
     "text": [
      "Requirement already satisfied: selenium in c:\\users\\bbb\\anaconda3\\lib\\site-packages (4.5.0)\n",
      "Requirement already satisfied: certifi>=2021.10.8 in c:\\users\\bbb\\anaconda3\\lib\\site-packages (from selenium) (2022.9.14)\n",
      "Requirement already satisfied: trio~=0.17 in c:\\users\\bbb\\anaconda3\\lib\\site-packages (from selenium) (0.22.0)\n",
      "Requirement already satisfied: trio-websocket~=0.9 in c:\\users\\bbb\\anaconda3\\lib\\site-packages (from selenium) (0.9.2)\n",
      "Requirement already satisfied: urllib3[socks]~=1.26 in c:\\users\\bbb\\anaconda3\\lib\\site-packages (from selenium) (1.26.11)\n",
      "Requirement already satisfied: attrs>=19.2.0 in c:\\users\\bbb\\anaconda3\\lib\\site-packages (from trio~=0.17->selenium) (21.4.0)\n",
      "Requirement already satisfied: idna in c:\\users\\bbb\\anaconda3\\lib\\site-packages (from trio~=0.17->selenium) (3.3)\n",
      "Requirement already satisfied: exceptiongroup>=1.0.0rc9 in c:\\users\\bbb\\anaconda3\\lib\\site-packages (from trio~=0.17->selenium) (1.0.0rc9)\n",
      "Requirement already satisfied: sortedcontainers in c:\\users\\bbb\\anaconda3\\lib\\site-packages (from trio~=0.17->selenium) (2.4.0)\n",
      "Requirement already satisfied: cffi>=1.14 in c:\\users\\bbb\\anaconda3\\lib\\site-packages (from trio~=0.17->selenium) (1.15.1)\n",
      "Requirement already satisfied: async-generator>=1.9 in c:\\users\\bbb\\anaconda3\\lib\\site-packages (from trio~=0.17->selenium) (1.10)\n",
      "Requirement already satisfied: outcome in c:\\users\\bbb\\anaconda3\\lib\\site-packages (from trio~=0.17->selenium) (1.2.0)\n",
      "Requirement already satisfied: sniffio in c:\\users\\bbb\\anaconda3\\lib\\site-packages (from trio~=0.17->selenium) (1.2.0)\n",
      "Requirement already satisfied: wsproto>=0.14 in c:\\users\\bbb\\anaconda3\\lib\\site-packages (from trio-websocket~=0.9->selenium) (1.2.0)\n",
      "Requirement already satisfied: PySocks!=1.5.7,<2.0,>=1.5.6 in c:\\users\\bbb\\anaconda3\\lib\\site-packages (from urllib3[socks]~=1.26->selenium) (1.7.1)\n",
      "Requirement already satisfied: pycparser in c:\\users\\bbb\\anaconda3\\lib\\site-packages (from cffi>=1.14->trio~=0.17->selenium) (2.21)\n",
      "Requirement already satisfied: h11<1,>=0.9.0 in c:\\users\\bbb\\anaconda3\\lib\\site-packages (from wsproto>=0.14->trio-websocket~=0.9->selenium) (0.14.0)\n",
      "Note: you may need to restart the kernel to use updated packages.\n"
     ]
    }
   ],
   "source": [
    "pip install selenium"
   ]
  },
  {
   "cell_type": "code",
   "execution_count": 3,
   "id": "3b3b3c32",
   "metadata": {},
   "outputs": [],
   "source": [
    "from selenium import webdriver"
   ]
  },
  {
   "cell_type": "code",
   "execution_count": 24,
   "id": "e908f36d",
   "metadata": {},
   "outputs": [],
   "source": [
    "path = \"c/Users/bbb/Desktop/python/2일차_크롤링\"\n",
    "\n",
    "browser = webdriver.Chrome()"
   ]
  },
  {
   "cell_type": "code",
   "execution_count": 25,
   "id": "e8d394ae",
   "metadata": {},
   "outputs": [],
   "source": [
    "browser.get(\"http://www.naver.com\")"
   ]
  },
  {
   "cell_type": "code",
   "execution_count": 16,
   "id": "6f6c3f7b",
   "metadata": {},
   "outputs": [],
   "source": [
    "#browser.get(\"https://search.naver.com/search.naver?where=nexearch&sm=top_hty&fbm=1&ie=utf8&query=%EB%82%A0%EC%94%A8\")"
   ]
  },
  {
   "cell_type": "code",
   "execution_count": 17,
   "id": "b0dfab97",
   "metadata": {},
   "outputs": [],
   "source": [
    "from selenium.webdriver.common.by import By"
   ]
  },
  {
   "cell_type": "code",
   "execution_count": 26,
   "id": "f5f2fee0",
   "metadata": {},
   "outputs": [],
   "source": [
    "browser.find_element(By.ID, 'query').click()"
   ]
  },
  {
   "cell_type": "code",
   "execution_count": 27,
   "id": "f505f4fc",
   "metadata": {},
   "outputs": [],
   "source": [
    "browser.find_element(By.ID, 'query').send_keys(\"서울날씨\")"
   ]
  },
  {
   "cell_type": "code",
   "execution_count": 28,
   "id": "dd3b775d",
   "metadata": {},
   "outputs": [],
   "source": [
    "browser.find_element(By.XPATH, '//*[@id=\"search_btn\"]').click()"
   ]
  },
  {
   "cell_type": "code",
   "execution_count": 29,
   "id": "df7c82eb",
   "metadata": {},
   "outputs": [
    {
     "data": {
      "text/plain": [
       "'17.1°'"
      ]
     },
     "execution_count": 29,
     "metadata": {},
     "output_type": "execute_result"
    }
   ],
   "source": [
    "data = browser.find_element(By.XPATH, '//*[@id=\"main_pack\"]/section[1]/div[1]/div[2]/div[1]/div[1]/div/div[2]/div/div[1]/div[1]/div[2]').text\n",
    "data[6:]"
   ]
  },
  {
   "cell_type": "code",
   "execution_count": 30,
   "id": "ebe8d8c9",
   "metadata": {},
   "outputs": [
    {
     "data": {
      "text/plain": [
       "'°'"
      ]
     },
     "execution_count": 30,
     "metadata": {},
     "output_type": "execute_result"
    }
   ],
   "source": [
    "browser.find_element(By.XPATH, '//*[@id=\"main_pack\"]/section[1]/div[1]/div[2]/div[1]/div[1]/div/div[2]/div/div[1]/div[1]/div[2]').find_element(By.CLASS_NAME, 'celsius').text"
   ]
  },
  {
   "cell_type": "code",
   "execution_count": 31,
   "id": "d6d8a712",
   "metadata": {},
   "outputs": [],
   "source": [
    "browser.find_element(By.ID, 'nx_query').click()"
   ]
  },
  {
   "cell_type": "code",
   "execution_count": 32,
   "id": "fba4eaeb",
   "metadata": {},
   "outputs": [],
   "source": [
    "browser.find_element(By.ID, 'nx_query').clear()"
   ]
  },
  {
   "cell_type": "code",
   "execution_count": 33,
   "id": "b4e45863",
   "metadata": {},
   "outputs": [],
   "source": [
    "browser.find_element(By.ID, 'nx_query').send_keys(\"환율\")"
   ]
  },
  {
   "cell_type": "code",
   "execution_count": 34,
   "id": "69cf5348",
   "metadata": {},
   "outputs": [],
   "source": [
    "browser.find_element(By.CLASS_NAME, 'bt_search').click()"
   ]
  },
  {
   "cell_type": "code",
   "execution_count": 35,
   "id": "830187fb",
   "metadata": {},
   "outputs": [
    {
     "data": {
      "text/plain": [
       "'1,424.40'"
      ]
     },
     "execution_count": 35,
     "metadata": {},
     "output_type": "execute_result"
    }
   ],
   "source": [
    "browser.find_element(By.XPATH, '//*[@id=\"_cs_foreigninfo\"]/div/div[2]/div/div[1]/div[1]/div[1]/div[1]/h3/a/span[2]/strong').text"
   ]
  },
  {
   "cell_type": "markdown",
   "id": "246193c9",
   "metadata": {},
   "source": [
    "# 구글 뉴스 크롤링\n",
    "## 단건 뉴스 크롤링"
   ]
  },
  {
   "cell_type": "code",
   "execution_count": 37,
   "id": "57253166",
   "metadata": {},
   "outputs": [],
   "source": [
    "browser.get(\"https://www.google.com/search?q=%EC%9E%90%EB%8F%99%ED%99%94&rlz=1C5CHFA_enKR1029KR1029&tbm=nws&source=lnt&tbs=qdr:w&sa=X&ved=2ahUKEwjkssCG4Pr6AhUMyGEKHX92C0sQpwV6BAgCEBs&biw=1239&bih=696&dpr=1\")"
   ]
  },
  {
   "cell_type": "code",
   "execution_count": 38,
   "id": "420e2400",
   "metadata": {},
   "outputs": [
    {
     "data": {
      "text/plain": [
       "'[비즈&] 롯데홈쇼핑, 물류센터에 업계 최초 자동화 시스템 도입 外'"
      ]
     },
     "execution_count": 38,
     "metadata": {},
     "output_type": "execute_result"
    }
   ],
   "source": [
    "browser.find_element(By.CLASS_NAME, 'mCBkyc').text"
   ]
  },
  {
   "cell_type": "code",
   "execution_count": 39,
   "id": "e6fbae2e",
   "metadata": {},
   "outputs": [
    {
     "data": {
      "text/plain": [
       "'롯데홈쇼핑이 경기도 이천에 업계 최초로 자동화 시스템을 도입한 물류센터를 열었습니다. 자율주행 기반의 로봇을 도입하고 8,134평 규모의 단층 구조, 원라인 시스템으로...'"
      ]
     },
     "execution_count": 39,
     "metadata": {},
     "output_type": "execute_result"
    }
   ],
   "source": [
    "browser.find_element(By.CLASS_NAME, 'GI74Re').text"
   ]
  },
  {
   "cell_type": "code",
   "execution_count": 40,
   "id": "4f64b002",
   "metadata": {},
   "outputs": [
    {
     "data": {
      "text/plain": [
       "<selenium.webdriver.remote.webelement.WebElement (session=\"50d2abcbfc0392d5d198f84fcf80ee16\", element=\"073da988-f091-46fd-bbc4-2038346a58d9\")>"
      ]
     },
     "execution_count": 40,
     "metadata": {},
     "output_type": "execute_result"
    }
   ],
   "source": [
    "browser.find_element(By.CLASS_NAME, 'mCBkyc')"
   ]
  },
  {
   "cell_type": "code",
   "execution_count": 41,
   "id": "cadea3e3",
   "metadata": {},
   "outputs": [
    {
     "data": {
      "text/plain": [
       "'https://www.yonhapnewstv.co.kr/news/MYH20221025012900038'"
      ]
     },
     "execution_count": 41,
     "metadata": {},
     "output_type": "execute_result"
    }
   ],
   "source": [
    "browser.find_element(By.CLASS_NAME, 'WlydOe').get_attribute('href')"
   ]
  },
  {
   "cell_type": "markdown",
   "id": "3403a2b0",
   "metadata": {},
   "source": [
    "## 1페이지 뉴스 크롤링(10개)"
   ]
  },
  {
   "cell_type": "code",
   "execution_count": 42,
   "id": "3a7889fb",
   "metadata": {},
   "outputs": [
    {
     "data": {
      "text/plain": [
       "['[비즈&] 롯데홈쇼핑 물류센터에 업계 최초 자동화 시스템 도입 外',\n",
       " '[올쇼TV] \"FortiSOAR를 활용한 자동화 위협 대응 사례\" 11월 2일 ...',\n",
       " '창원시 창원국제용접 및 절단자동화전 성료',\n",
       " \"'5분이면 청약 끝'…한화생명 청약자동화 솔루션 특허 취득\",\n",
       " \"지멘스 차세대 IC DFT 자동화 솔루션 '테센트 멀티-다이' 공개\",\n",
       " '[AI 기반 제조혁신-②] 조선업계 업황 개선에 인력 부족은 더욱 ...',\n",
       " \"포스코ICT 업무 자동화 솔루션 '에이웍스 3.0' 출시\",\n",
       " '‘2022 국제 공구 및 스마트 용접 자동화전’ 성료',\n",
       " '롯데홈쇼핑 이천 물류센터 오픈...최첨단 자동화 시스템 갖춰',\n",
       " '제이엔피글로벌 도로 시공 무인자동화 기업 충청에 시드투자']"
      ]
     },
     "execution_count": 42,
     "metadata": {},
     "output_type": "execute_result"
    }
   ],
   "source": [
    "titles = browser.find_elements(By.CLASS_NAME, 'mCBkyc')\n",
    "\n",
    "title = []\n",
    "for i in titles:\n",
    "    temp_title = i.text\n",
    "    temp_title = temp_title.replace(\",\", \"\")\n",
    "    title.append(temp_title)\n",
    "\n",
    "title"
   ]
  },
  {
   "cell_type": "code",
   "execution_count": 43,
   "id": "4df3b168",
   "metadata": {},
   "outputs": [
    {
     "name": "stdout",
     "output_type": "stream",
     "text": [
      "['[비즈&] 롯데홈쇼핑 물류센터에 업계 최초 자동화 시스템 도입 外', '[올쇼TV] \"FortiSOAR를 활용한 자동화 위협 대응 사례\" 11월 2일 ...', '창원시 창원국제용접 및 절단자동화전 성료', \"'5분이면 청약 끝'…한화생명 청약자동화 솔루션 특허 취득\", \"지멘스 차세대 IC DFT 자동화 솔루션 '테센트 멀티-다이' 공개\", '[AI 기반 제조혁신-②] 조선업계 업황 개선에 인력 부족은 더욱 ...', \"포스코ICT 업무 자동화 솔루션 '에이웍스 3.0' 출시\", '‘2022 국제 공구 및 스마트 용접 자동화전’ 성료', '롯데홈쇼핑 이천 물류센터 오픈...최첨단 자동화 시스템 갖춰', '제이엔피글로벌 도로 시공 무인자동화 기업 충청에 시드투자']\n"
     ]
    }
   ],
   "source": [
    "print(title)"
   ]
  },
  {
   "cell_type": "code",
   "execution_count": 44,
   "id": "bf7a9fe0",
   "metadata": {},
   "outputs": [
    {
     "data": {
      "text/plain": [
       "['롯데홈쇼핑이 경기도 이천에 업계 최초로 자동화 시스템을 도입한 물류센터를 열었습니다. 자율주행 기반의 로봇을 도입하고 8134평 규모의 단층 구조 원라인 시스템으로...',\n",
       " '최근 보안 관제 시스템에 자동화 바람이 불면서 SOAR(Security Orchestration Automation and Response) 솔루션에 대한 관심이 높아가고 있다. SOAR 솔루션은 보안 위협에...',\n",
       " '용접·절단자동화 관련 기업체 판로 개척 지원과 신기술 정보 획득 및 정보 교류의 장을 마련하기 위한 목적으로 개최됐다. 이 전시회는 한국전시산업진흥회가 인증하는...',\n",
       " '(서울=연합인포맥스) 정지서 기자 = 한화생명이 업계 최초로 보험 신계약 과정을 로봇 기술로 자동화하며 법인대리점(GA) 시장에서의 영업 경쟁력 강화에 나섰다.',\n",
       " '... 가 선보인 테센트 멀티-다이 소프트웨어는 2.5D 및 3D IC 설계와 관련된 매우 복잡한 DFT 작업을 수행하기 위한 업계에서 가장 포괄적인 DFT 자동화 솔루션이다.',\n",
       " '조선3사의 경우 이러한 인력난을 타개하기 위해 최근 무인자율운향 스마트조선소를 추진하고 있다. 특히 많은 용접 작업이 수행되는 공정 특성상 용접용 로봇 자동화...',\n",
       " '포스코ICT는 사용자 편의·운영 기능을 강화한 업무 처리 자동화(RPA) 솔루션 에이웍스 3.0을 선보인다고 26일 밝혔다. 에이웍스 3.0을 이용하면 워크센터에서 원격으로...',\n",
       " \"최첨단 공구 및 스마트 용접 자동화기기를 한눈에 볼 수 있었던 '2022 국제 공구 및 스마트 용접 자동화전(TOOL TECH + SMART WELDING AUTOMATION FAIR)'이 나흘간 2...\",\n",
       " '자율주행로봇 무인운반차 로봇팔 디팔렛타이저 등 최첨단 자동화 설비 도입. 롯데홈쇼핑(대표 이완신)이 난 21일(금) 경기도 이천에서 업계 최초로 자동화 시스템을...',\n",
       " '충청은 도로 시공 작업 무인자동화를 실현하고 있는 기업으로 현재 베트남 등 해외시장 진출을 추진하고 있다. 초기 시드 투자사인 제이엔피글로벌은 현재 과학벨트 세종...']"
      ]
     },
     "execution_count": 44,
     "metadata": {},
     "output_type": "execute_result"
    }
   ],
   "source": [
    "contents = browser.find_elements(By.CLASS_NAME, 'GI74Re')\n",
    "\n",
    "content = []\n",
    "for i in contents:\n",
    "    temp_content = i.text\n",
    "    temp_content = temp_content.replace(\",\", \"\")\n",
    "    content.append(temp_content)\n",
    "    \n",
    "content"
   ]
  },
  {
   "cell_type": "code",
   "execution_count": 45,
   "id": "345c11a4",
   "metadata": {},
   "outputs": [
    {
     "name": "stdout",
     "output_type": "stream",
     "text": [
      "['롯데홈쇼핑이 경기도 이천에 업계 최초로 자동화 시스템을 도입한 물류센터를 열었습니다. 자율주행 기반의 로봇을 도입하고 8134평 규모의 단층 구조 원라인 시스템으로...', '최근 보안 관제 시스템에 자동화 바람이 불면서 SOAR(Security Orchestration Automation and Response) 솔루션에 대한 관심이 높아가고 있다. SOAR 솔루션은 보안 위협에...', '용접·절단자동화 관련 기업체 판로 개척 지원과 신기술 정보 획득 및 정보 교류의 장을 마련하기 위한 목적으로 개최됐다. 이 전시회는 한국전시산업진흥회가 인증하는...', '(서울=연합인포맥스) 정지서 기자 = 한화생명이 업계 최초로 보험 신계약 과정을 로봇 기술로 자동화하며 법인대리점(GA) 시장에서의 영업 경쟁력 강화에 나섰다.', '... 가 선보인 테센트 멀티-다이 소프트웨어는 2.5D 및 3D IC 설계와 관련된 매우 복잡한 DFT 작업을 수행하기 위한 업계에서 가장 포괄적인 DFT 자동화 솔루션이다.', '조선3사의 경우 이러한 인력난을 타개하기 위해 최근 무인자율운향 스마트조선소를 추진하고 있다. 특히 많은 용접 작업이 수행되는 공정 특성상 용접용 로봇 자동화...', '포스코ICT는 사용자 편의·운영 기능을 강화한 업무 처리 자동화(RPA) 솔루션 에이웍스 3.0을 선보인다고 26일 밝혔다. 에이웍스 3.0을 이용하면 워크센터에서 원격으로...', \"최첨단 공구 및 스마트 용접 자동화기기를 한눈에 볼 수 있었던 '2022 국제 공구 및 스마트 용접 자동화전(TOOL TECH + SMART WELDING AUTOMATION FAIR)'이 나흘간 2...\", '자율주행로봇 무인운반차 로봇팔 디팔렛타이저 등 최첨단 자동화 설비 도입. 롯데홈쇼핑(대표 이완신)이 난 21일(금) 경기도 이천에서 업계 최초로 자동화 시스템을...', '충청은 도로 시공 작업 무인자동화를 실현하고 있는 기업으로 현재 베트남 등 해외시장 진출을 추진하고 있다. 초기 시드 투자사인 제이엔피글로벌은 현재 과학벨트 세종...']\n"
     ]
    }
   ],
   "source": [
    "print(content)"
   ]
  },
  {
   "cell_type": "code",
   "execution_count": 46,
   "id": "066ed549",
   "metadata": {},
   "outputs": [
    {
     "name": "stdout",
     "output_type": "stream",
     "text": [
      "제목 : [비즈&] 롯데홈쇼핑 물류센터에 업계 최초 자동화 시스템 도입 外\n",
      "내용 : 롯데홈쇼핑이 경기도 이천에 업계 최초로 자동화 시스템을 도입한 물류센터를 열었습니다. 자율주행 기반의 로봇을 도입하고 8134평 규모의 단층 구조 원라인 시스템으로...\n"
     ]
    }
   ],
   "source": [
    "links = browser.find_elements(By.CLASS_NAME, 'WlydOe')\n",
    "\n",
    "link = []\n",
    "for i in links:\n",
    "    link.append(i.get_attribute('href'))\n",
    "    \n",
    "print(\"제목 : \" + title[0])\n",
    "print(\"내용 : \" + content[0])"
   ]
  },
  {
   "cell_type": "code",
   "execution_count": 47,
   "id": "e28e8abe",
   "metadata": {},
   "outputs": [],
   "source": [
    "file = open(\"test.csv\", \"a\", encoding=\"UTF-8-sig\")\n",
    "file.write(\"{}, {}, {} \\n\".format(\"제목\", \"내용\", \"링크\"))\n",
    "file.write(\"{}, {}, {} \\n\".format(\"제목2\", \"내용2\", \"링크2\"))\n",
    "file.close()"
   ]
  },
  {
   "cell_type": "code",
   "execution_count": 48,
   "id": "5dc0d8de",
   "metadata": {},
   "outputs": [
    {
     "name": "stdout",
     "output_type": "stream",
     "text": [
      "['https://www.yonhapnewstv.co.kr/news/MYH20221025012900038', 'https://www.etnews.com/20221018000152', 'https://www.pressian.com/pages/articles/2022102523120788243', 'https://news.einfomax.co.kr/news/articleView.html?idxno=4239120', 'https://www.hellot.net/news/article.html?no=72189', 'http://www.hellot.net/news/article.html?no=72267', 'https://www.mk.co.kr/news/it/view/2022/10/949655/', 'http://www.snmnews.com/news/articleView.html?idxno=506612', 'http://www.klnews.co.kr/news/articleView.html?idxno=305926', 'https://www.etnews.com/20221026000125']\n"
     ]
    }
   ],
   "source": [
    "print(link)"
   ]
  },
  {
   "cell_type": "code",
   "execution_count": 49,
   "id": "ae3fd892",
   "metadata": {},
   "outputs": [],
   "source": [
    "file = open(\"google_news.csv\", \"a\", encoding=\"UTF-8-sig\")\n",
    "\n",
    "for i in range(len(title)):\n",
    "    file.write(\"{}, {}, {} \\n\".format(title[i], content[i], link[i]))\n",
    "\n",
    "file.close()"
   ]
  },
  {
   "cell_type": "markdown",
   "id": "5358fe4d",
   "metadata": {},
   "source": [
    "## 네이버 환율 데이터 크롤링"
   ]
  },
  {
   "cell_type": "code",
   "execution_count": 50,
   "id": "16848499",
   "metadata": {},
   "outputs": [],
   "source": [
    "browser.get(\"https://search.naver.com/search.naver?ie=UTF-8&query=%EB%84%A4%EC%9D%B4%EB%B2%84%ED%99%98%EC%9C%A8&sm=chr_hty\")"
   ]
  },
  {
   "cell_type": "code",
   "execution_count": 51,
   "id": "6a7b9675",
   "metadata": {},
   "outputs": [
    {
     "name": "stdout",
     "output_type": "stream",
     "text": [
      "통화명\n",
      "미국 USD\n",
      "일본 JPY 100\n",
      "유럽연합 EUR\n",
      "중국 CNY\n",
      "영국 GBP\n",
      "호주 AUD\n",
      "캐나다 CAD\n",
      "뉴질랜드 NZD\n"
     ]
    }
   ],
   "source": [
    "table = browser.find_element(By.CLASS_NAME, 'rate_table_bx')\n",
    "rows = table.find_elements(By.TAG_NAME, 'tr')\n",
    "\n",
    "\n",
    "for row in rows:\n",
    "#     print(row.text)\n",
    "    country_name = row.find_element(By.TAG_NAME, 'th').text\n",
    "    \n",
    "    print(country_name)"
   ]
  }
 ],
 "metadata": {
  "kernelspec": {
   "display_name": "Python 3 (ipykernel)",
   "language": "python",
   "name": "python3"
  },
  "language_info": {
   "codemirror_mode": {
    "name": "ipython",
    "version": 3
   },
   "file_extension": ".py",
   "mimetype": "text/x-python",
   "name": "python",
   "nbconvert_exporter": "python",
   "pygments_lexer": "ipython3",
   "version": "3.9.13"
  }
 },
 "nbformat": 4,
 "nbformat_minor": 5
}
